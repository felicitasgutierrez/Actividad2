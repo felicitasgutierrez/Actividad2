{
 "cells": [
  {
   "cell_type": "code",
   "execution_count": null,
   "metadata": {
    "vscode": {
     "languageId": "plaintext"
    }
   },
   "outputs": [],
   "source": [
    "import sys\n",
    "import os\n",
    "\n",
    "sys.path.append(os.path.abspath(\"../src\"))"
   ]
  },
  {
   "cell_type": "code",
   "execution_count": 2,
   "metadata": {
    "vscode": {
     "languageId": "plaintext"
    }
   },
   "outputs": [
    {
     "name": "stdout",
     "output_type": "stream",
     "text": [
      "\n",
      "--- Ronda 1 ---\n",
      " MVP de la Ronda: Shadow (Puntos: 6)\n",
      "\n",
      "Ranking Acumulado:\n",
      "Jugador   | Kills | Asistencias | Muertes | MVPs | Puntos\n",
      "--------------------------------------------------\n",
      "Shadow   | 2     | 1           | 1       | 1    | 6\n",
      "Viper    | 1     | 2           | 1       | 0    | 4\n",
      "Reaper   | 1     | 1           | 0       | 0    | 4\n",
      "Blaze    | 1     | 0           | 0       | 0    | 3\n",
      "Frost    | 0     | 1           | 0       | 0    | 1\n",
      "\n",
      "--- Ronda 2 ---\n",
      " MVP de la Ronda: Frost (Puntos: 6)\n",
      "\n",
      "Ranking Acumulado:\n",
      "Jugador   | Kills | Asistencias | Muertes | MVPs | Puntos\n",
      "--------------------------------------------------\n",
      "Shadow   | 2     | 3           | 1       | 1    | 8\n",
      "Blaze    | 3     | 0           | 1       | 0    | 8\n",
      "Viper    | 2     | 3           | 1       | 0    | 8\n",
      "Frost    | 2     | 2           | 1       | 1    | 7\n",
      "Reaper   | 1     | 2           | 0       | 0    | 5\n",
      "\n",
      "--- Ronda 3 ---\n",
      " MVP de la Ronda: Blaze (Puntos: 7)\n",
      "\n",
      "Ranking Acumulado:\n",
      "Jugador   | Kills | Asistencias | Muertes | MVPs | Puntos\n",
      "--------------------------------------------------\n",
      "Blaze    | 5     | 2           | 2       | 1    | 15\n",
      "Shadow   | 3     | 3           | 1       | 1    | 11\n",
      "Viper    | 3     | 4           | 2       | 0    | 11\n",
      "Reaper   | 2     | 3           | 0       | 0    | 9\n",
      "Frost    | 2     | 3           | 1       | 1    | 8\n",
      "\n",
      "--- Ronda 4 ---\n",
      " MVP de la Ronda: Shadow (Puntos: 7)\n",
      "\n",
      "Ranking Acumulado:\n",
      "Jugador   | Kills | Asistencias | Muertes | MVPs | Puntos\n",
      "--------------------------------------------------\n",
      "Shadow   | 5     | 4           | 1       | 2    | 18\n",
      "Blaze    | 6     | 2           | 3       | 1    | 17\n",
      "Viper    | 3     | 6           | 2       | 0    | 13\n",
      "Reaper   | 3     | 4           | 0       | 0    | 13\n",
      "Frost    | 3     | 4           | 2       | 1    | 11\n",
      "\n",
      "--- Ronda 5 ---\n",
      " MVP de la Ronda: Viper (Puntos: 5)\n",
      "\n",
      "Ranking Acumulado:\n",
      "Jugador   | Kills | Asistencias | Muertes | MVPs | Puntos\n",
      "--------------------------------------------------\n",
      "Shadow   | 6     | 6           | 2       | 2    | 22\n",
      "Blaze    | 6     | 3           | 3       | 1    | 18\n",
      "Viper    | 5     | 6           | 3       | 1    | 18\n",
      "Reaper   | 4     | 5           | 1       | 0    | 16\n",
      "Frost    | 4     | 5           | 2       | 1    | 15\n"
     ]
    }
   ],
   "source": [
    "from function import simulate_games\n",
    "\n",
    "rounds = [\n",
    "{\n",
    "'Shadow': {'kills': 2, 'assists': 1, 'deaths': True},\n",
    "'Blaze': {'kills': 1, 'assists': 0, 'deaths': False},\n",
    "'Viper': {'kills': 1, 'assists': 2, 'deaths': True},\n",
    "'Frost': {'kills': 0, 'assists': 1, 'deaths': False},\n",
    "'Reaper': {'kills': 1, 'assists': 1, 'deaths': False}\n",
    "},\n",
    "{\n",
    "'Shadow': {'kills': 0, 'assists': 2, 'deaths': False},\n",
    "'Blaze': {'kills': 2, 'assists': 0, 'deaths': True},\n",
    "'Viper': {'kills': 1, 'assists': 1, 'deaths': False},\n",
    "'Frost': {'kills': 2, 'assists': 1, 'deaths': True},\n",
    "'Reaper': {'kills': 0, 'assists': 1, 'deaths': False}\n",
    "},\n",
    "{\n",
    "'Shadow': {'kills': 1, 'assists': 0, 'deaths': False},\n",
    "'Blaze': {'kills': 2, 'assists': 2, 'deaths': True},\n",
    "'Viper': {'kills': 1, 'assists': 1, 'deaths': True},\n",
    "'Frost': {'kills': 0, 'assists': 1, 'deaths': False},\n",
    "'Reaper': {'kills': 1, 'assists': 1, 'deaths': False}\n",
    "},\n",
    "{\n",
    "'Shadow': {'kills': 2, 'assists': 1, 'deaths': False},\n",
    "'Blaze': {'kills': 1, 'assists': 0, 'deaths': True},\n",
    "'Viper': {'kills': 0, 'assists': 2, 'deaths': False},\n",
    "'Frost': {'kills': 1, 'assists': 1, 'deaths': True},\n",
    "'Reaper': {'kills': 1, 'assists': 1, 'deaths': False}\n",
    "},\n",
    "{\n",
    "'Shadow': {'kills': 1, 'assists': 2, 'deaths': True},\n",
    "'Blaze': {'kills': 0, 'assists': 1, 'deaths': False},\n",
    "'Viper': {'kills': 2, 'assists': 0, 'deaths': True},\n",
    "'Frost': {'kills': 1, 'assists': 1, 'deaths': False},\n",
    "'Reaper': {'kills': 1, 'assists': 1, 'deaths': True}\n",
    "}\n",
    "]\n",
    "\n",
    "# Ejecutar simulación\n",
    "stats_final = simulate_games(rounds)"
   ]
  },
  {
   "cell_type": "code",
   "execution_count": null,
   "metadata": {},
   "outputs": [],
   "source": []
  }
 ],
 "metadata": {
  "kernelspec": {
   "display_name": "Python 3 (ipykernel)",
   "language": "python",
   "name": "python3"
  },
  "language_info": {
   "codemirror_mode": {
    "name": "ipython",
    "version": 3
   },
   "file_extension": ".py",
   "mimetype": "text/x-python",
   "name": "python",
   "nbconvert_exporter": "python",
   "pygments_lexer": "ipython3",
   "version": "3.12.9"
  }
 },
 "nbformat": 4,
 "nbformat_minor": 4
}
